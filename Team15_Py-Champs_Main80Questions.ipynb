{
 "cells": [
  {
   "cell_type": "code",
   "execution_count": 5,
   "id": "c3f3d812",
   "metadata": {},
   "outputs": [],
   "source": [
    "import numpy as np\n",
    "import pandas as pd\n",
    "import matplotlib.pyplot as plt\n",
    "import seaborn as sns\n",
    "import warnings\n",
    "from datetime import datetime, date\n",
    "import plotly.express as px\n",
    "import calendar\n",
    "import random\n",
    "import re\n",
    "warnings.filterwarnings(\"ignore\")\n",
    "%matplotlib inline"
   ]
  },
  {
   "cell_type": "code",
   "execution_count": 6,
   "id": "3c64c494",
   "metadata": {},
   "outputs": [],
   "source": [
    "df_hospitalizationdischarge = pd.read_excel(\"Cardiac_Outcomes.xlsx\",\"Hospitalization_Discharge\")\n",
    "df_cardiaccomplications = pd.read_excel(\"Cardiac_Outcomes.xlsx\",\"CardiacComplications\")\n",
    "df_responsivenes = pd.read_excel(\"Cardiac_Outcomes.xlsx\",\"Responsivenes\")\n",
    "df_patienthistory = pd.read_excel(\"Cardiac_Outcomes.xlsx\",\"PatientHistory\")\n",
    "df_labs = pd.read_excel(\"Cardiac_Outcomes.xlsx\",\"Labs\")\n",
    "df_demography = pd.read_excel(\"Cardiac_Outcomes.xlsx\",\"Demography\")\n",
    "df_patientprecriptions = pd.read_excel(\"Cardiac_Outcomes.xlsx\",\"Patient_Precriptions\")"
   ]
  },
  {
   "cell_type": "markdown",
   "id": "99f6f995",
   "metadata": {},
   "source": [
    "# 1. How many patients were registered in each unique occupation?"
   ]
  },
  {
   "cell_type": "code",
   "execution_count": 16,
   "id": "e8da5523",
   "metadata": {},
   "outputs": [
    {
     "name": "stdout",
     "output_type": "stream",
     "text": [
      "   occupation  patient_count\n",
      "UrbanResident           1670\n",
      "       farmer            198\n",
      "       Others             89\n",
      "       worker             17\n",
      "      Officer              7\n"
     ]
    }
   ],
   "source": [
    "df1 = df_demography.loc[:,['occupation','inpatient_number']]\n",
    "df2 = df1.groupby('occupation').count()\n",
    "df2.reset_index(inplace = True)\n",
    "df2 = df2.rename(columns={'inpatient_number' :'patient_count'})\n",
    "df2.sort_values(by ='patient_count',ascending = False,inplace = True)\n",
    "print(df2.to_string(index = False))\n"
   ]
  },
  {
   "cell_type": "markdown",
   "id": "1617b001",
   "metadata": {},
   "source": [
    "# 2. Divide GCS scores into slabs of 5 and count the number of patients under each band of score. Show this as any graph of your choice?"
   ]
  },
  {
   "cell_type": "code",
   "execution_count": null,
   "id": "5d2ffda8",
   "metadata": {},
   "outputs": [],
   "source": []
  },
  {
   "cell_type": "markdown",
   "id": "d8ea9c4d",
   "metadata": {},
   "source": [
    "# 3. Add a calculated column called Discharge date into the Hospitalization_Discharge using the information already available to you"
   ]
  },
  {
   "cell_type": "code",
   "execution_count": null,
   "id": "bc314e5b",
   "metadata": {},
   "outputs": [],
   "source": []
  },
  {
   "cell_type": "markdown",
   "id": "823f6cdb",
   "metadata": {},
   "source": [
    "# 4. What percentage of patients had Biventricular heart failure?"
   ]
  },
  {
   "cell_type": "code",
   "execution_count": null,
   "id": "24c41a6d",
   "metadata": {},
   "outputs": [],
   "source": []
  },
  {
   "cell_type": "markdown",
   "id": "2c3b6395",
   "metadata": {},
   "source": [
    "# 5. What is the ratio of patients who were responsive to pain vs responsive to sound?"
   ]
  },
  {
   "cell_type": "code",
   "execution_count": null,
   "id": "ea85ac23",
   "metadata": {},
   "outputs": [],
   "source": []
  },
  {
   "cell_type": "markdown",
   "id": "02ac1f28",
   "metadata": {},
   "source": [
    "# 6. What was the average age group of the patients that had an outcome of 'Alive'?"
   ]
  },
  {
   "cell_type": "code",
   "execution_count": null,
   "id": "b17de10f",
   "metadata": {},
   "outputs": [],
   "source": []
  },
  {
   "cell_type": "markdown",
   "id": "6da8f874",
   "metadata": {},
   "source": [
    "# 7. Visualize missing data and missing patterns from Demography table using the \"MissingNo\" Library."
   ]
  },
  {
   "cell_type": "code",
   "execution_count": null,
   "id": "b24c2483",
   "metadata": {},
   "outputs": [],
   "source": []
  },
  {
   "cell_type": "markdown",
   "id": "7ebd35dc",
   "metadata": {},
   "source": [
    "# 8. Create a Waffle chart to show what percentage of total deaths belong to each admission_ward?"
   ]
  },
  {
   "cell_type": "code",
   "execution_count": null,
   "id": "b0467db9",
   "metadata": {},
   "outputs": [],
   "source": []
  },
  {
   "cell_type": "markdown",
   "id": "38e1a2e6",
   "metadata": {},
   "source": [
    "# 9. Create any 2 2-D arrays and perform matrix multiplication. Display the resulting array?"
   ]
  },
  {
   "cell_type": "code",
   "execution_count": null,
   "id": "4e7471c0",
   "metadata": {},
   "outputs": [],
   "source": []
  },
  {
   "cell_type": "markdown",
   "id": "4c45be3e",
   "metadata": {},
   "source": [
    "# 10. Display the percentage of missing values in each column in the table labs. Show the distribution as a bar graph?"
   ]
  },
  {
   "cell_type": "code",
   "execution_count": null,
   "id": "f10d884d",
   "metadata": {},
   "outputs": [],
   "source": []
  },
  {
   "cell_type": "markdown",
   "id": "a4bf70b5",
   "metadata": {},
   "source": [
    "# 11. A valid mobile number is a ten digit number starting with a 7,8 or 9. For every string listed, print \"YES\" if it is a valid mobile number and \"NO\" if it is not on separate lines. Do not print the quotes?"
   ]
  },
  {
   "cell_type": "code",
   "execution_count": null,
   "id": "81e85880",
   "metadata": {},
   "outputs": [],
   "source": []
  },
  {
   "cell_type": "markdown",
   "id": "5c91e452",
   "metadata": {},
   "source": [
    "# 12. If left ventricular end diastolic diameter has a normal range: 3.5 - 5.6 cm, how many patients fall outside that limit and what is the MAP of most patients with this condition?"
   ]
  },
  {
   "cell_type": "code",
   "execution_count": null,
   "id": "4bbf0038",
   "metadata": {},
   "outputs": [],
   "source": []
  },
  {
   "cell_type": "markdown",
   "id": "c3ed3878",
   "metadata": {},
   "source": [
    "# 13. Create a bar chart between lengthofstay and body temperature, classified as: Hypothermia, within range or hyperthermia?"
   ]
  },
  {
   "cell_type": "code",
   "execution_count": null,
   "id": "edb65881",
   "metadata": {},
   "outputs": [],
   "source": []
  },
  {
   "cell_type": "markdown",
   "id": "af53f1c1",
   "metadata": {},
   "source": [
    "# 14. Find the list of patients whose DischargeDay is greater than the value given by the user?"
   ]
  },
  {
   "cell_type": "code",
   "execution_count": null,
   "id": "799b86ef",
   "metadata": {},
   "outputs": [],
   "source": []
  },
  {
   "cell_type": "markdown",
   "id": "a6252d48",
   "metadata": {},
   "source": [
    "# 15. Display a pie chart of number of patients in each category listed\n",
    "\n",
    "-death_within_28_days\n",
    "-re_admission_within_28_days\n",
    "-death_within_3_months \n",
    "-re_admission_within_3_months \n",
    "-death_within_6_months \n",
    "-re_admission_within_6_months\n",
    "-return_to_emergency_department_within_6_months"
   ]
  },
  {
   "cell_type": "code",
   "execution_count": null,
   "id": "9d400605",
   "metadata": {},
   "outputs": [],
   "source": []
  },
  {
   "cell_type": "markdown",
   "id": "6047195a",
   "metadata": {},
   "source": [
    "# 16. Create a pivot table with myocardial_infarction, congestive_heart_failure,peripheral_vascular_disease as rows and average Uric Acid and BMI as columns, using melt functions?"
   ]
  },
  {
   "cell_type": "code",
   "execution_count": null,
   "id": "aaf840aa",
   "metadata": {},
   "outputs": [],
   "source": []
  },
  {
   "cell_type": "markdown",
   "id": "52b7f505",
   "metadata": {},
   "source": [
    "# 17. Using arrays and loops find the number of patients who were Admitted in the month of November?"
   ]
  },
  {
   "cell_type": "code",
   "execution_count": 15,
   "id": "7158f1ae",
   "metadata": {},
   "outputs": [
    {
     "name": "stdout",
     "output_type": "stream",
     "text": [
      "196\n"
     ]
    }
   ],
   "source": [
    "#df_hospitalizationdischarge\n",
    "#df_hospitalizationdischarge.sort_values('Admission_date',ascending = True)\n",
    "\n",
    "admission_dt = df_hospitalizationdischarge[\"Admission_date\"].tolist()      # Will return the Admission date column into series \n",
    "# admission_dt\n",
    "\n",
    "dt_series = pd.Series(admission_dt)     # return  array list of Admission date \n",
    "mnth_list  = dt_series.dt.month         # Convert the date into month\n",
    "\n",
    "#mnth_list.info()                       # Return Month series \n",
    "\n",
    "i_count = 1                             # Set the counter to 1 since Array starts with 0\n",
    "# Count November month in the series list\n",
    "for count, value in enumerate(mnth_list):\n",
    "  if value == 11:\n",
    "      i_count = i_count + 1 \n",
    "print(i_count)\n"
   ]
  },
  {
   "cell_type": "markdown",
   "id": "b4595434",
   "metadata": {},
   "source": [
    "# 18. Create a heatmap on any columns of your choice including at least 1 lab value?"
   ]
  },
  {
   "cell_type": "code",
   "execution_count": null,
   "id": "069ce516",
   "metadata": {},
   "outputs": [],
   "source": []
  },
  {
   "cell_type": "markdown",
   "id": "6807b6f8",
   "metadata": {},
   "source": [
    "# 19. Create a bar chart by making list on Avg BMI and occupation column (with no duplicates) & make the hatchs onto the bar by using set_hatch() method?"
   ]
  },
  {
   "cell_type": "code",
   "execution_count": null,
   "id": "2c919a78",
   "metadata": {},
   "outputs": [],
   "source": []
  },
  {
   "cell_type": "markdown",
   "id": "c61bb22e",
   "metadata": {},
   "source": [
    "# 20. You are given three integers x,y,z representing the dimensions of a cuboid along with an integer n . \n",
    "Print a list of all possible coordinates given by(i,j,k) on a 3D grid where the sum of i,j,k is not equal to n.  x=1, y=1, z=2, n-3"
   ]
  },
  {
   "cell_type": "code",
   "execution_count": null,
   "id": "2c003ec9",
   "metadata": {},
   "outputs": [],
   "source": []
  },
  {
   "cell_type": "markdown",
   "id": "5353242f",
   "metadata": {},
   "source": [
    "# 21. Given the names and grades for each student in a class of students, store them in a nested list and print the name(s) of any student(s) having the second lowest grade.\n",
    "python_students = [['Harry', 37.21], ['Berry', 37.21], ['Tina', 37.2], ['Akriti', 41], ['Harsh', 39]]"
   ]
  },
  {
   "cell_type": "code",
   "execution_count": null,
   "id": "8c8de0f4",
   "metadata": {},
   "outputs": [],
   "source": []
  },
  {
   "cell_type": "markdown",
   "id": "69a8f067",
   "metadata": {},
   "source": [
    "# 22. Which patient was on the most number of prescribed drugs? What was his age and outcome?"
   ]
  },
  {
   "cell_type": "code",
   "execution_count": null,
   "id": "cab1ec22",
   "metadata": {},
   "outputs": [],
   "source": []
  },
  {
   "cell_type": "markdown",
   "id": "7299c8f6",
   "metadata": {},
   "source": [
    "# 23. How many patients were prescribed Digoxin?"
   ]
  },
  {
   "cell_type": "code",
   "execution_count": null,
   "id": "0d22aef7",
   "metadata": {},
   "outputs": [],
   "source": []
  },
  {
   "cell_type": "markdown",
   "id": "fc18f38d",
   "metadata": {},
   "source": [
    "# 24. What columns indicate a prescence of anemia? Create a severity score for anemia and prove or disprove a correlation to Length of stay"
   ]
  },
  {
   "cell_type": "code",
   "execution_count": null,
   "id": "e5c8cb6e",
   "metadata": {},
   "outputs": [],
   "source": []
  },
  {
   "cell_type": "markdown",
   "id": "f5eb2f27",
   "metadata": {},
   "source": [
    "# 25. Using GCS score, how many patients are considered to be in a coma?"
   ]
  },
  {
   "cell_type": "code",
   "execution_count": null,
   "id": "a09ff370",
   "metadata": {},
   "outputs": [],
   "source": []
  },
  {
   "cell_type": "markdown",
   "id": "4f03eadd",
   "metadata": {},
   "source": [
    "# 26. Create a column that randomly generates an age between the age group given for each patient. What was the average age of the patients?"
   ]
  },
  {
   "cell_type": "code",
   "execution_count": null,
   "id": "a2fbf765",
   "metadata": {},
   "outputs": [],
   "source": []
  },
  {
   "cell_type": "markdown",
   "id": "8ab66afd",
   "metadata": {},
   "source": [
    "# 27. Using the age column generated in Q.26, calculate year of birth for each patient?"
   ]
  },
  {
   "cell_type": "code",
   "execution_count": null,
   "id": "305797d1",
   "metadata": {},
   "outputs": [],
   "source": []
  },
  {
   "cell_type": "markdown",
   "id": "3d330a85",
   "metadata": {},
   "source": [
    "# 28. Store patient number and gender in a dictionary as a pair of values. Show the first 10 values?"
   ]
  },
  {
   "cell_type": "code",
   "execution_count": null,
   "id": "75bd1ee2",
   "metadata": {},
   "outputs": [],
   "source": []
  },
  {
   "cell_type": "markdown",
   "id": "885de7a1",
   "metadata": {},
   "source": [
    "# 29. What percentage of those in a coma also have diabetes?"
   ]
  },
  {
   "cell_type": "code",
   "execution_count": null,
   "id": "261d167a",
   "metadata": {},
   "outputs": [],
   "source": []
  },
  {
   "cell_type": "markdown",
   "id": "8522de3d",
   "metadata": {},
   "source": [
    "# 30. Identify any columns relating to echocardiography and create a severity score for cardiac function. Compare this outcome and show average severity score for each outcome?"
   ]
  },
  {
   "cell_type": "code",
   "execution_count": null,
   "id": "f93d7aae",
   "metadata": {},
   "outputs": [],
   "source": []
  },
  {
   "cell_type": "markdown",
   "id": "b9f68065",
   "metadata": {},
   "source": [
    "# 31. Group the days to re-admission into bins and count how many patients were in each bin?"
   ]
  },
  {
   "cell_type": "code",
   "execution_count": null,
   "id": "24b916a2",
   "metadata": {},
   "outputs": [],
   "source": []
  },
  {
   "cell_type": "markdown",
   "id": "a5367ffd",
   "metadata": {},
   "source": [
    "# 32. Combine admission_ward & admission_way and count the patients under the new group. Create a pie chart and explode the biggest wedge?"
   ]
  },
  {
   "cell_type": "code",
   "execution_count": null,
   "id": "0d39ad9e",
   "metadata": {},
   "outputs": [],
   "source": []
  },
  {
   "cell_type": "markdown",
   "id": "fab20bcb",
   "metadata": {},
   "source": [
    "# 33. Retrieve the row with minimum white_blood_cell count using sorting technique?"
   ]
  },
  {
   "cell_type": "code",
   "execution_count": null,
   "id": "ce65db9e",
   "metadata": {},
   "outputs": [],
   "source": []
  },
  {
   "cell_type": "markdown",
   "id": "f2da00d5",
   "metadata": {},
   "source": [
    "# 34. get the last letter of discharge_department of patients using RegEX?"
   ]
  },
  {
   "cell_type": "code",
   "execution_count": null,
   "id": "538b62df",
   "metadata": {},
   "outputs": [],
   "source": []
  },
  {
   "cell_type": "markdown",
   "id": "28d414af",
   "metadata": {},
   "source": [
    "# 35. find the way to reverse string for given input (eg: input : This hackathon is about cardiac outcomes: outcomes cardiac about is hackathon This)?"
   ]
  },
  {
   "cell_type": "code",
   "execution_count": null,
   "id": "4b045a33",
   "metadata": {},
   "outputs": [],
   "source": []
  },
  {
   "cell_type": "markdown",
   "id": "439b798f",
   "metadata": {},
   "source": [
    "# 36. Use the QB style library to create any multidimensional arrays.Create a figure object called fig using plt.figure() **. ** Use add_axes to add an axis to the figure canvas at [0,0,1,1]. Call this new axis ax. **. ** Plot (x,y) on that axes and set the labels."
   ]
  },
  {
   "cell_type": "code",
   "execution_count": null,
   "id": "3f652cf8",
   "metadata": {},
   "outputs": [],
   "source": []
  },
  {
   "cell_type": "markdown",
   "id": "d3641efe",
   "metadata": {},
   "source": [
    "# 37. Using dischargeDay values print even if it even number and odd if it odd number?"
   ]
  },
  {
   "cell_type": "code",
   "execution_count": null,
   "id": "ee1e8345",
   "metadata": {},
   "outputs": [],
   "source": []
  },
  {
   "cell_type": "markdown",
   "id": "3dd49454",
   "metadata": {},
   "source": [
    "# 38. find the length of Tuple for any given input (Hint: Input a string from user )?"
   ]
  },
  {
   "cell_type": "code",
   "execution_count": null,
   "id": "67564cf5",
   "metadata": {},
   "outputs": [],
   "source": []
  },
  {
   "cell_type": "markdown",
   "id": "6a189df7",
   "metadata": {},
   "source": [
    "# 39. Create a subplot on x = np.arange(0, 10, 0.1) , y = np.sin(np.pi * x) + x with 2 rows & 2 columns with object oriented approach?"
   ]
  },
  {
   "cell_type": "code",
   "execution_count": null,
   "id": "6b65487e",
   "metadata": {},
   "outputs": [],
   "source": []
  },
  {
   "cell_type": "markdown",
   "id": "ca06808b",
   "metadata": {},
   "source": [
    "# 40. Select 25 different random values between 200 to 800?"
   ]
  },
  {
   "cell_type": "code",
   "execution_count": null,
   "id": "b3ba7ac7",
   "metadata": {},
   "outputs": [],
   "source": []
  },
  {
   "cell_type": "markdown",
   "id": "6df9dac2",
   "metadata": {},
   "source": [
    "# 41. Plot the time series of Admission dates with count of patients. The X-Axis should be for every 5 months?"
   ]
  },
  {
   "cell_type": "code",
   "execution_count": null,
   "id": "374fa5b3",
   "metadata": {},
   "outputs": [],
   "source": []
  },
  {
   "cell_type": "markdown",
   "id": "caef63be",
   "metadata": {},
   "source": [
    "# 42. np.arange(1,21).reshape(4,5), find array slicing to get the elements 1,2,8,19.  When the value is less than 9, print as 0,else print 1?"
   ]
  },
  {
   "cell_type": "code",
   "execution_count": null,
   "id": "212291a4",
   "metadata": {},
   "outputs": [],
   "source": []
  },
  {
   "cell_type": "markdown",
   "id": "85c9705d",
   "metadata": {},
   "source": [
    "# 43. Give Distribution chart of max Killip_grade?"
   ]
  },
  {
   "cell_type": "code",
   "execution_count": null,
   "id": "112552be",
   "metadata": {},
   "outputs": [],
   "source": []
  },
  {
   "cell_type": "markdown",
   "id": "0ef9bf84",
   "metadata": {},
   "source": [
    "# 44. Based on Q26 and 27 display all demographic details of patients who are born in year 1945?"
   ]
  },
  {
   "cell_type": "code",
   "execution_count": null,
   "id": "a55eca5f",
   "metadata": {},
   "outputs": [],
   "source": []
  },
  {
   "cell_type": "markdown",
   "id": "32af270f",
   "metadata": {},
   "source": [
    "# 45. Create a dataframe with date and time as columns, where the values are the admission time?"
   ]
  },
  {
   "cell_type": "code",
   "execution_count": null,
   "id": "d5b91112",
   "metadata": {},
   "outputs": [],
   "source": []
  },
  {
   "cell_type": "markdown",
   "id": "9a2551d8",
   "metadata": {},
   "source": [
    "# 46. Convert occupation into numeric by Label encoding?"
   ]
  },
  {
   "cell_type": "code",
   "execution_count": null,
   "id": "02c7399b",
   "metadata": {},
   "outputs": [],
   "source": []
  },
  {
   "cell_type": "markdown",
   "id": "b9d95073",
   "metadata": {},
   "source": [
    "# 47. Generate a 3x3 Array using Random values between 1to 9 and Fix the values and position in Next Run?"
   ]
  },
  {
   "cell_type": "code",
   "execution_count": null,
   "id": "3cd54ffc",
   "metadata": {},
   "outputs": [],
   "source": []
  },
  {
   "cell_type": "markdown",
   "id": "56921509",
   "metadata": {},
   "source": [
    "# 48. Using loops, create a multiplication table for the number 7?"
   ]
  },
  {
   "cell_type": "code",
   "execution_count": null,
   "id": "8baea5da",
   "metadata": {},
   "outputs": [],
   "source": []
  },
  {
   "cell_type": "markdown",
   "id": "bb13939c",
   "metadata": {},
   "source": [
    "# 49. Connect to sql and write a query to find all patients who have a gender of 'Male' ( Attach screenshots for this question)?"
   ]
  },
  {
   "cell_type": "code",
   "execution_count": null,
   "id": "bda7c3f1",
   "metadata": {},
   "outputs": [],
   "source": []
  },
  {
   "cell_type": "markdown",
   "id": "d4aa4529",
   "metadata": {},
   "source": [
    "# 50. Display the lab details of the patient with maximum pulse using the .loc?"
   ]
  },
  {
   "cell_type": "code",
   "execution_count": null,
   "id": "59dc57b0",
   "metadata": {},
   "outputs": [],
   "source": []
  },
  {
   "cell_type": "markdown",
   "id": "9096aa7c",
   "metadata": {},
   "source": [
    "# 51. Display a violin chart to show distribution of Pulse Rate against age?"
   ]
  },
  {
   "cell_type": "code",
   "execution_count": 9,
   "id": "faf29e0c",
   "metadata": {},
   "outputs": [
    {
     "data": {
      "text/plain": [
       "Text(0, 0.5, 'Age')"
      ]
     },
     "execution_count": 9,
     "metadata": {},
     "output_type": "execute_result"
    },
    {
     "data": {
      "image/png": "[encoded data removed]",
      "text/plain": [
       "<Figure size 1000x600 with 1 Axes>"
      ]
     },
     "metadata": {},
     "output_type": "display_data"
    }
   ],
   "source": [
    "sns.set(style=\"white\")\n",
    "plt.figure(figsize=(10, 6))\n",
    "df_labs = pd.read_excel(\"Cardiac_Outcomes.xlsx\", sheet_name = \"Labs\")\n",
    "df_demography = pd.read_excel(\"Cardiac_Outcomes.xlsx\", sheet_name = \"Demography\")\n",
    "\n",
    "sns.violinplot(x=df_labs[\"pulse\"], y=df_demography[\"ageCat\"] , palette=\"bright\")\n",
    "plt.xlabel('Pulse Rate')\n",
    "plt.ylabel('Age')\n"
   ]
  },
  {
   "cell_type": "markdown",
   "id": "9555afa0",
   "metadata": {},
   "source": [
    "# 52. Create a Point Plot on Age against time to readmission?"
   ]
  },
  {
   "cell_type": "code",
   "execution_count": 10,
   "id": "7b172503",
   "metadata": {},
   "outputs": [
    {
     "data": {
      "text/plain": [
       "Text(0, 0.5, 'Age')"
      ]
     },
     "execution_count": 10,
     "metadata": {},
     "output_type": "execute_result"
    },
    {
     "data": {
      "image/png": "[encoded data removed]",
      "text/plain": [
       "<Figure size 900x600 with 1 Axes>"
      ]
     },
     "metadata": {},
     "output_type": "display_data"
    }
   ],
   "source": [
    "sns.set(style=\"dark\")\n",
    "plt.figure(figsize=(9, 6))\n",
    "df_hospitalizationdischarge = pd.read_excel(\"Cardiac_Outcomes.xlsx\", sheet_name = \"Hospitalization_Discharge\")\n",
    "df_demography= pd.read_excel(\"Cardiac_Outcomes.xlsx\", sheet_name = \"Demography\")\n",
    "\n",
    "sns.pointplot( x=df_hospitalizationdischarge[\"readmission_time_days_from_admission\"],y=df_demography[\"ageCat\"],color='m')\n",
    "plt.xlabel('Readmission Time')\n",
    "plt.ylabel('Age')\n",
    "\n",
    "\n",
    "\n",
    "#sns.pointplot( x=df_Demo[\"ageCat\"],y=df_hd[\"readmission_time_days_from_admission\"], palette=\"rocket\")\n",
    "#plt.ylabel('Readmission Time')\n",
    "#plt.xlabel('Age')"
   ]
  },
  {
   "cell_type": "markdown",
   "id": "2fd1c14e",
   "metadata": {},
   "source": [
    "# 53.What is the correlation between CCI score and outcome?"
   ]
  },
  {
   "cell_type": "code",
   "execution_count": null,
   "id": "a3b14937",
   "metadata": {},
   "outputs": [],
   "source": []
  },
  {
   "cell_type": "markdown",
   "id": "9ecce649",
   "metadata": {},
   "source": [
    "# 54. For all non-negative integers that are also even numbers in the array [0,1,2,6,8] print i*i?"
   ]
  },
  {
   "cell_type": "code",
   "execution_count": null,
   "id": "beb52a51",
   "metadata": {},
   "outputs": [],
   "source": []
  },
  {
   "cell_type": "markdown",
   "id": "1c08222f",
   "metadata": {},
   "source": [
    "# 55. Create a jointplot on diastolic_blood_pressure & length of stay?"
   ]
  },
  {
   "cell_type": "code",
   "execution_count": 11,
   "id": "143062eb",
   "metadata": {},
   "outputs": [
    {
     "data": {
      "image/png": "[encoded data removed]",
      "text/plain": [
       "<Figure size 600x600 with 3 Axes>"
      ]
     },
     "metadata": {},
     "output_type": "display_data"
    }
   ],
   "source": [
    "df_hospitalizationdischarge= pd.read_excel(\"Cardiac_Outcomes.xlsx\", sheet_name = \"Hospitalization_Discharge\")\n",
    "df_labs = pd.read_excel(\"Cardiac_Outcomes.xlsx\", sheet_name = \"Labs\")\n",
    "\n",
    "sns.jointplot(x=df_labs[\"diastolic_blood_pressure\"],y=df_hospitalizationdischarge[\"dischargeDay\"]);"
   ]
  },
  {
   "cell_type": "markdown",
   "id": "9cf6bc88",
   "metadata": {},
   "source": [
    "# 56. Using loc, retrieve the agegroup and weight between indices 101 and 201?"
   ]
  },
  {
   "cell_type": "code",
   "execution_count": 12,
   "id": "f04553b0",
   "metadata": {},
   "outputs": [
    {
     "data": {
      "text/html": [
       "<div>\n",
       "<style scoped>\n",
       "    .dataframe tbody tr th:only-of-type {\n",
       "        vertical-align: middle;\n",
       "    }\n",
       "\n",
       "    .dataframe tbody tr th {\n",
       "        vertical-align: top;\n",
       "    }\n",
       "\n",
       "    .dataframe thead th {\n",
       "        text-align: right;\n",
       "    }\n",
       "</style>\n",
       "<table border=\"1\" class=\"dataframe\">\n",
       "  <thead>\n",
       "    <tr style=\"text-align: right;\">\n",
       "      <th></th>\n",
       "      <th>weight</th>\n",
       "      <th>ageCat</th>\n",
       "    </tr>\n",
       "  </thead>\n",
       "  <tbody>\n",
       "    <tr>\n",
       "      <th>101</th>\n",
       "      <td>41.0</td>\n",
       "      <td>69-79</td>\n",
       "    </tr>\n",
       "    <tr>\n",
       "      <th>102</th>\n",
       "      <td>64.0</td>\n",
       "      <td>79-89</td>\n",
       "    </tr>\n",
       "    <tr>\n",
       "      <th>103</th>\n",
       "      <td>61.0</td>\n",
       "      <td>79-89</td>\n",
       "    </tr>\n",
       "    <tr>\n",
       "      <th>104</th>\n",
       "      <td>40.0</td>\n",
       "      <td>79-89</td>\n",
       "    </tr>\n",
       "    <tr>\n",
       "      <th>105</th>\n",
       "      <td>73.0</td>\n",
       "      <td>69-79</td>\n",
       "    </tr>\n",
       "    <tr>\n",
       "      <th>...</th>\n",
       "      <td>...</td>\n",
       "      <td>...</td>\n",
       "    </tr>\n",
       "    <tr>\n",
       "      <th>196</th>\n",
       "      <td>62.0</td>\n",
       "      <td>59-69</td>\n",
       "    </tr>\n",
       "    <tr>\n",
       "      <th>197</th>\n",
       "      <td>50.0</td>\n",
       "      <td>79-89</td>\n",
       "    </tr>\n",
       "    <tr>\n",
       "      <th>198</th>\n",
       "      <td>50.0</td>\n",
       "      <td>89-110</td>\n",
       "    </tr>\n",
       "    <tr>\n",
       "      <th>199</th>\n",
       "      <td>50.0</td>\n",
       "      <td>69-79</td>\n",
       "    </tr>\n",
       "    <tr>\n",
       "      <th>200</th>\n",
       "      <td>63.0</td>\n",
       "      <td>59-69</td>\n",
       "    </tr>\n",
       "  </tbody>\n",
       "</table>\n",
       "<p>100 rows × 2 columns</p>\n",
       "</div>"
      ],
      "text/plain": [
       "     weight  ageCat\n",
       "101    41.0   69-79\n",
       "102    64.0   79-89\n",
       "103    61.0   79-89\n",
       "104    40.0   79-89\n",
       "105    73.0   69-79\n",
       "..      ...     ...\n",
       "196    62.0   59-69\n",
       "197    50.0   79-89\n",
       "198    50.0  89-110\n",
       "199    50.0   69-79\n",
       "200    63.0   59-69\n",
       "\n",
       "[100 rows x 2 columns]"
      ]
     },
     "execution_count": 12,
     "metadata": {},
     "output_type": "execute_result"
    }
   ],
   "source": [
    "df_demography= pd.read_excel(\"Cardiac_Outcomes.xlsx\", sheet_name = \"Demography\")\n",
    "df_demography.iloc[101:201, [2, -1]]"
   ]
  },
  {
   "cell_type": "markdown",
   "id": "5ce0e2ef",
   "metadata": {},
   "source": [
    "# 57. Create a pivot table show shows outcome type as rows, the admission_ward as columns and counts of patients in each category as value?"
   ]
  },
  {
   "cell_type": "code",
   "execution_count": null,
   "id": "0a6d1ef0",
   "metadata": {},
   "outputs": [],
   "source": []
  },
  {
   "cell_type": "markdown",
   "id": "7d1cff53",
   "metadata": {},
   "source": [
    "# 58. Use Hexagonal binning to show the density of patients who were readmitted when compared to Discharge Days?"
   ]
  },
  {
   "cell_type": "code",
   "execution_count": null,
   "id": "e4783dd0",
   "metadata": {},
   "outputs": [],
   "source": []
  },
  {
   "cell_type": "markdown",
   "id": "36ad6b88",
   "metadata": {},
   "source": [
    "# 59. Using Sunburst chart display patients Age group, occupation and BMI Group?"
   ]
  },
  {
   "cell_type": "code",
   "execution_count": null,
   "id": "d54f096e",
   "metadata": {},
   "outputs": [],
   "source": []
  },
  {
   "cell_type": "markdown",
   "id": "8232e6b6",
   "metadata": {},
   "source": [
    "# 60. Plot the Density Chart for visit times?"
   ]
  },
  {
   "cell_type": "code",
   "execution_count": 13,
   "id": "45fba14e",
   "metadata": {},
   "outputs": [
    {
     "data": {
      "text/plain": [
       "<Axes: xlabel='visit_times', ylabel='Count'>"
      ]
     },
     "execution_count": 13,
     "metadata": {},
     "output_type": "execute_result"
    },
    {
     "data": {
      "image/png": "[encoded data removed]",
      "text/plain": [
       "<Figure size 640x480 with 1 Axes>"
      ]
     },
     "metadata": {},
     "output_type": "display_data"
    }
   ],
   "source": [
    "df_hospitalizationdischarge= pd.read_excel(\"Cardiac_Outcomes.xlsx\", sheet_name = \"Hospitalization_Discharge\")\n",
    "sns.histplot(data=df_hospitalizationdischarge, x=\"visit_times\",kde=True)"
   ]
  },
  {
   "cell_type": "markdown",
   "id": "1d22c933",
   "metadata": {},
   "source": [
    "# 61. np.arange(1,31).reshape(6,5) Find the array slicing to get the elements with values 11,12,16,17?"
   ]
  },
  {
   "cell_type": "code",
   "execution_count": 14,
   "id": "5a706e74",
   "metadata": {},
   "outputs": [
    {
     "name": "stdout",
     "output_type": "stream",
     "text": [
      "[11 12]\n",
      "[16 17]\n"
     ]
    }
   ],
   "source": [
    "np.arange(1,31).reshape(6,5)\n",
    "\n",
    "arr=np.arange(1,31).reshape(6,5)\n",
    "print(arr[2,0:2]),\n",
    "print(arr[3,0:2])"
   ]
  },
  {
   "cell_type": "markdown",
   "id": "0ccf4498",
   "metadata": {},
   "source": [
    "# 62. What % of all patients with an outcome of \"Alive\" died within 28 days. What was the mean platelet volume among this group?"
   ]
  },
  {
   "cell_type": "code",
   "execution_count": null,
   "id": "3afde657",
   "metadata": {},
   "outputs": [],
   "source": []
  },
  {
   "cell_type": "markdown",
   "id": "842edd4a",
   "metadata": {},
   "source": [
    "# 63. find the patients who have 'h' in their DestinationDischarge and print them?"
   ]
  },
  {
   "cell_type": "code",
   "execution_count": null,
   "id": "4649056d",
   "metadata": {},
   "outputs": [],
   "source": []
  },
  {
   "cell_type": "markdown",
   "id": "8a15bc02",
   "metadata": {},
   "source": [
    "# 64. Create a grouped bar chart that shows number of patients by gender and ageCat?"
   ]
  },
  {
   "cell_type": "code",
   "execution_count": null,
   "id": "a1a1f8f9",
   "metadata": {},
   "outputs": [],
   "source": []
  },
  {
   "cell_type": "markdown",
   "id": "16431577",
   "metadata": {},
   "source": [
    "# 65. Which Admission Ward has maximum number of visits scheduled?"
   ]
  },
  {
   "cell_type": "code",
   "execution_count": null,
   "id": "a217f69e",
   "metadata": {},
   "outputs": [],
   "source": []
  },
  {
   "cell_type": "markdown",
   "id": "faf30ce2",
   "metadata": {},
   "source": [
    "# 66. Display total count of patients in each discharge_department based on gender?"
   ]
  },
  {
   "cell_type": "code",
   "execution_count": null,
   "id": "6fa33161",
   "metadata": {},
   "outputs": [],
   "source": []
  },
  {
   "cell_type": "markdown",
   "id": "98bd6cf1",
   "metadata": {},
   "source": [
    "# 67. How many Unique patients were precribed each type of medication?"
   ]
  },
  {
   "cell_type": "code",
   "execution_count": null,
   "id": "d555394f",
   "metadata": {},
   "outputs": [],
   "source": []
  },
  {
   "cell_type": "markdown",
   "id": "8b482f19",
   "metadata": {},
   "source": [
    "# 68. Find 5 patients with the highest Discharge days greater than 20. List their most common outcome?"
   ]
  },
  {
   "cell_type": "code",
   "execution_count": null,
   "id": "04d557b5",
   "metadata": {},
   "outputs": [],
   "source": []
  },
  {
   "cell_type": "markdown",
   "id": "16e0c562",
   "metadata": {},
   "source": [
    "# 69. Get the list of patient ID's which are not there in prescriptions but in demographics?"
   ]
  },
  {
   "cell_type": "code",
   "execution_count": null,
   "id": "21000d82",
   "metadata": {},
   "outputs": [],
   "source": []
  },
  {
   "cell_type": "markdown",
   "id": "c20a1981",
   "metadata": {},
   "source": [
    "# 70. On average, what is the most frequent weekday of admission?"
   ]
  },
  {
   "cell_type": "code",
   "execution_count": null,
   "id": "b81c8ca2",
   "metadata": {},
   "outputs": [],
   "source": []
  },
  {
   "cell_type": "markdown",
   "id": "4efb2eea",
   "metadata": {},
   "source": [
    "# 71. Which year had the maximum admissions?"
   ]
  },
  {
   "cell_type": "code",
   "execution_count": null,
   "id": "f46e3faa",
   "metadata": {},
   "outputs": [],
   "source": []
  },
  {
   "cell_type": "markdown",
   "id": "6249ebf2",
   "metadata": {},
   "source": [
    "# 72. What % of the dataset is male vs female?"
   ]
  },
  {
   "cell_type": "code",
   "execution_count": null,
   "id": "fcae4d96",
   "metadata": {},
   "outputs": [],
   "source": []
  },
  {
   "cell_type": "markdown",
   "id": "4ddd4f2c",
   "metadata": {},
   "source": [
    "# 73. Which patient in the youngest age category weighs the most?"
   ]
  },
  {
   "cell_type": "code",
   "execution_count": null,
   "id": "f66d48fc",
   "metadata": {},
   "outputs": [],
   "source": []
  },
  {
   "cell_type": "markdown",
   "id": "98699740",
   "metadata": {},
   "source": [
    "# 74. Which adm ward had the lowest rate of Outcome Death?"
   ]
  },
  {
   "cell_type": "code",
   "execution_count": null,
   "id": "082e3012",
   "metadata": {},
   "outputs": [],
   "source": []
  },
  {
   "cell_type": "markdown",
   "id": "c8eccbe3",
   "metadata": {},
   "source": [
    "# 75. What % of those with an outcome of death, had myocardial infarction?"
   ]
  },
  {
   "cell_type": "code",
   "execution_count": null,
   "id": "9c6442ff",
   "metadata": {},
   "outputs": [],
   "source": []
  },
  {
   "cell_type": "markdown",
   "id": "44a3963b",
   "metadata": {},
   "source": [
    "# 76. What is the ratio of those with congestive heart failure to those who had type of heart failure Both?"
   ]
  },
  {
   "cell_type": "code",
   "execution_count": null,
   "id": "35c1c7f1",
   "metadata": {},
   "outputs": [],
   "source": []
  },
  {
   "cell_type": "markdown",
   "id": "e675ecf1",
   "metadata": {},
   "source": [
    "# 77. LIst the number of cardiogenic shock patients based on hospitalization outcome, having a severe GCS score(higher risk of death)?"
   ]
  },
  {
   "cell_type": "code",
   "execution_count": null,
   "id": "10bed595",
   "metadata": {},
   "outputs": [],
   "source": []
  },
  {
   "cell_type": "markdown",
   "id": "3f11a54d",
   "metadata": {},
   "source": [
    "# 78. Give the count of patients who have experinced tachicardia or bradycardia?"
   ]
  },
  {
   "cell_type": "code",
   "execution_count": null,
   "id": "8cd911dd",
   "metadata": {},
   "outputs": [],
   "source": []
  },
  {
   "cell_type": "markdown",
   "id": "d27362ff",
   "metadata": {},
   "source": [
    "# 79. Create a Funnel chart of BMI Category(Normal Weight, Underweight and Obese)?"
   ]
  },
  {
   "cell_type": "code",
   "execution_count": null,
   "id": "ca71c251",
   "metadata": {},
   "outputs": [],
   "source": []
  },
  {
   "cell_type": "markdown",
   "id": "feadf19b",
   "metadata": {},
   "source": [
    "# 80. Delete the column age from Q26 iteratively?"
   ]
  },
  {
   "cell_type": "code",
   "execution_count": null,
   "id": "d46cd4df",
   "metadata": {},
   "outputs": [],
   "source": []
  }
 ],
 "metadata": {
  "kernelspec": {
   "display_name": "Python 3 (ipykernel)",
   "language": "python",
   "name": "python3"
  },
  "language_info": {
   "codemirror_mode": {
    "name": "ipython",
    "version": 3
   },
   "file_extension": ".py",
   "mimetype": "text/x-python",
   "name": "python",
   "nbconvert_exporter": "python",
   "pygments_lexer": "ipython3",
   "version": "3.11.7"
  }
 },
 "nbformat": 4,
 "nbformat_minor": 5
}
